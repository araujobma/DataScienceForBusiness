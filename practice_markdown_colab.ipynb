{
  "nbformat": 4,
  "nbformat_minor": 0,
  "metadata": {
    "colab": {
      "provenance": [],
      "authorship_tag": "ABX9TyOvgc6XqhHhwJ3WFZq/trxO",
      "include_colab_link": true
    },
    "kernelspec": {
      "name": "python3",
      "display_name": "Python 3"
    },
    "language_info": {
      "name": "python"
    }
  },
  "cells": [
    {
      "cell_type": "markdown",
      "metadata": {
        "id": "view-in-github",
        "colab_type": "text"
      },
      "source": [
        "<a href=\"https://colab.research.google.com/github/araujobma/DataScienceForBusiness/blob/master/practice_markdown_colab.ipynb\" target=\"_parent\"><img src=\"https://colab.research.google.com/assets/colab-badge.svg\" alt=\"Open In Colab\"/></a>"
      ]
    },
    {
      "cell_type": "markdown",
      "source": [],
      "metadata": {
        "id": "WLC6hUz6bzqa"
      }
    },
    {
      "cell_type": "markdown",
      "source": [
        "## Example of markdown\n",
        "examples in colab how to use markdown"
      ],
      "metadata": {
        "id": "EpSBDLJGb2fV"
      }
    },
    {
      "cell_type": "code",
      "source": [
        "def function_example():\n",
        "  print(\"Colab example\")"
      ],
      "metadata": {
        "id": "dCcRBCBBcCGa"
      },
      "execution_count": 1,
      "outputs": []
    },
    {
      "cell_type": "markdown",
      "source": [
        "## More example of markdown\n",
        "* one\n",
        "* two\n",
        "* three\n",
        "\n",
        "[gist link example](https://gist.github.com/araujobma/f084d726ae02fd88262215f8f3c221f6)"
      ],
      "metadata": {
        "id": "dmObRJ3CcZbs"
      }
    },
    {
      "cell_type": "code",
      "source": [],
      "metadata": {
        "id": "tDN48TigeiHJ"
      },
      "execution_count": null,
      "outputs": []
    },
    {
      "cell_type": "markdown",
      "source": [
        "## Image\n",
        "![SmallSquareLogo](https://github.com/araujobma/technical-discussion/assets/5077172/b0f1c08c-21fd-4b44-9c5e-9cfa646f516c)"
      ],
      "metadata": {
        "id": "I5YxZkYGejOa"
      }
    },
    {
      "cell_type": "code",
      "source": [],
      "metadata": {
        "id": "nqMBlPaEe01O"
      },
      "execution_count": null,
      "outputs": []
    }
  ]
}